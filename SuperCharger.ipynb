{
 "cells": [
  {
   "cell_type": "code",
   "execution_count": null,
   "id": "364bc902",
   "metadata": {},
   "outputs": [],
   "source": [
    "Vs = 0.0028   # Swept Volume (m^3)\n",
    "nm = 80       # Mechanical Efficiency (%)\n",
    "ni = 74       # Isentropic Efficiency (%)\n",
    "Cp = 1.005    # Specific Heat Capacity (J/KgK)"
   ]
  },
  {
   "cell_type": "code",
   "execution_count": null,
   "id": "84567a20",
   "metadata": {},
   "outputs": [],
   "source": [
    "p1 = 1.013    # Atmospheric Pressure (bar)\n",
    "t1 = 288      # Atmospheric Temp (K)\n",
    "pr = 1.6      # Pressure Ratio\n",
    "g  = 1.4      # Adibatic Gas Constant\n",
    "R  = 287      # Real Gas Contant (J/KgK)"
   ]
  },
  {
   "cell_type": "code",
   "execution_count": null,
   "id": "bec12747",
   "metadata": {},
   "outputs": [],
   "source": [
    "#Case 1: At a Constant Engine Speed\n",
    "N  = 4000     # Engine Speed (rpm)\n",
    "ip = 12.5     # Avg Indicated Power (KW/m^3)\n",
    "nv = 85       # Volumetric Efficiency (%)\n",
    "# Supercharger Pressure Output\n",
    "p2 = pr*p1    # in bar\n",
    "\n",
    "# Engine Temp Output\n",
    "t21 = t1 * (p2/p1)**((g-1)/g)  # in K\n",
    "\n",
    "# SuperCharger Temp Output\n",
    "t2 = t1+((t21-t1)/(ni/100.0))\n",
    "\n",
    "# Piston Swept Voulme\n",
    "Vs1 = (Vs*(N/2))\n",
    "\n",
    "# Equivalent Volume\n",
    "Ve = (Vs1*p2*t1)/(t2*p1)\n",
    "\n",
    "# Voulmetric Efficiency of SuperCharger\n",
    "nv1 = (Ve/Vs1)*100\n",
    "# UnsuperCharger Induced Volume\n",
    "Vi = Vs1*(nv/100.0)\n",
    "\n",
    "# Increment in Induced Volume (Due to Supercharger)\n",
    "Vii = Ve-Vi\n",
    "\n",
    "# Increment in Indicated Power Due to Volume of Air\n",
    "ipa = ip*Vii\n",
    "\n",
    "# Increment in the Indicated Power Due To Pressure of Air\n",
    "ipi = ((p2-p1)*(10**5)*Vs1)/(60*1000)\n",
    "\n",
    "# Total Increment in the Induced Power\n",
    "ipt = ipa + ipi\n",
    "# Increment in the Brake Power of Engine\n",
    "bp = ipt * (nm/100.0)\n",
    "\n",
    "# Increment of Brake Power without SuperCharger\n",
    "bpe = ip* (nm/100.0)\n",
    "\n",
    "# Mass of Air Delivered to SuperCharger\n",
    "ma = (p2*(Vs1/60.0)*(10**5))/(R*t2)\n",
    "\n",
    "# Power Consumed by SuperCharger\n",
    "P = ma*Cp*(t2-t1)\n",
    "\n",
    "# Power Delivered to the SuperCharger to run\n",
    "Pd = P/(nm/100.0)\n",
    "\n",
    "# Net Increment in Brake Power (Having SuperCharger)\n",
    "bpn = bp - Pd"
   ]
  },
  {
   "cell_type": "code",
   "execution_count": null,
   "id": "408f505b",
   "metadata": {},
   "outputs": [],
   "source": [
    "#Results\n",
    "print(\"Engine Indicated Power Without Super Charger is {} KW\".format(round(ip)))\n",
    "print(\"Engine Indicated Power With The Super Charger is {} KW\".format(round(ipt)))\n",
    "\n",
    "print(\"Engine Brake Power Without Super Charger is {} KW\".format(round(bpe)))\n",
    "print(\"Engine Brake Power With The Super Charger is {} KW\".format(round(bpn)))\n",
    "\n",
    "print(\"Volumetric Efficiency of the Engine with the SuperCharger is {} %\".format(round(nv1)))\n",
    "Engine Indicated Power Without Super Charger is 12 KW\n",
    "Engine Indicated Power With The Super Charger is 40 KW\n",
    "Engine Brake Power Without Super Charger is 10 KW\n",
    "Engine Brake Power With The Super Charger is 21 KW\n",
    "Volumetric Efficiency of the Engine with the SuperCharger is 134 %\n"
   ]
  },
  {
   "cell_type": "code",
   "execution_count": null,
   "id": "4aeebfd1",
   "metadata": {},
   "outputs": [],
   "source": [
    "# Importing Required Libraries\n",
    "import pandas as pd\n",
    "print(pd.__version__)"
   ]
  },
  {
   "cell_type": "code",
   "execution_count": null,
   "id": "170a0a88",
   "metadata": {},
   "outputs": [],
   "source": [
    "# Importing Engine.csv\n",
    "data = pd.read_csv('Engine.csv')\n",
    "data.head(n=10)"
   ]
  },
  {
   "cell_type": "code",
   "execution_count": null,
   "id": "31371bb6",
   "metadata": {},
   "outputs": [],
   "source": [
    "# Supercharger Pressure Output\n",
    "p2 = pr*p1    # in bar\n",
    "\n",
    "# Engine Temp Output\n",
    "t21 = t1 * (p2/p1)**((g-1)/g)  # in K\n",
    "\n",
    "# SuperCharger Temp Output\n",
    "t2 = t1+((t21-t1)/(ni/100.0))\n",
    "\n",
    "# Piston Swept Voulme\n",
    "Vs1 = (Vs*(data['Speed (rpm)']/2))\n",
    "\n",
    "# Equivalent Volume\n",
    "Ve = (Vs1*p2*t1)/(t2*p1)\n",
    "\n",
    "# Voulmetric Efficiency of SuperCharger\n",
    "nv1 = (Ve/Vs1)*100\n",
    "# UnsuperCharger Induced Volume\n",
    "Vi = Vs1*(data['Volumetric Efficiency (%)']/100.0)\n",
    "\n",
    "# Increment in Induced Volume (Due to Supercharger)\n",
    "Vii = Ve-Vi\n",
    "\n",
    "# Increment in Indicated Power Due to Volume of Air\n",
    "ipa = data['Indicated Power (Kw)']*Vii\n",
    "\n",
    "# Increment in the Indicated Power Due To Pressure of Air\n",
    "ipi = ((p2-p1)*(10**5)*Vs1/(60*1000))\n",
    "\n",
    "# Total Increment in the Induced Power\n",
    "data['Total Indicated Power (Kw)'] = ipa + ipi\n",
    "# Increment in the Brake Power of Engine\n",
    "bp = data['Total Indicated Power (Kw)'] * (nm/100.0)\n",
    "\n",
    "# Increment of Brake Power without SuperCharger\n",
    "data['Brake Power Without SuperCharger (Kw)'] = data['Indicated Power (Kw)']* (nm/100.0)\n",
    "\n",
    "# Mass of Air Delivered to SuperCharger\n",
    "ma = (p2*(Vs1/60.0)*(10**5)/(R*t2))\n",
    "\n",
    "# Power Consumed by SuperCharger\n",
    "P = ma*Cp*(t2-t1)\n",
    "\n",
    "# Power Delivered to the SuperCharger to run\n",
    "Pd = P/(nm/100.0)\n",
    "\n",
    "# Net Increment in Brake Power (Having SuperCharger)\n",
    "data['Net Increment in the brake Power (Kw)'] = bp - Pd"
   ]
  },
  {
   "cell_type": "code",
   "execution_count": null,
   "id": "e336c8e3",
   "metadata": {},
   "outputs": [],
   "source": [
    "plt.plot(data['Speed (rpm)'],data['Brake Power Without SuperCharger (Kw)'],'r',label = 'BP Without SuperCharger')\n",
    "plt.plot(data['Speed (rpm)'],data['Indicated Power (Kw)'],'g',label = 'IP Without SuperCharger')\n",
    "plt.title(\"IP and BP without the SuperCharger\")\n",
    "plt.xlabel(\"Engine's Speed (rpm)\")\n",
    "plt.ylabel(\"Power (Kw)\")\n",
    "plt.legend(loc='best')\n",
    "plt.show()"
   ]
  },
  {
   "cell_type": "code",
   "execution_count": null,
   "id": "1f15888a",
   "metadata": {},
   "outputs": [],
   "source": [
    "plt.plot(data['Speed (rpm)'],data['Net Increment in the brake Power (Kw)'],'-r',label = 'BP With SuperCharger')\n",
    "plt.plot(data['Speed (rpm)'],data['Brake Power Without SuperCharger (Kw)'],':r',label = 'BP Without SuperCharger')\n",
    "plt.plot(data['Speed (rpm)'],data['Total Indicated Power (Kw)'],'-g',label = 'IP With SuperCharger')\n",
    "plt.plot(data['Speed (rpm)'],data['Indicated Power (Kw)'],':g',label = 'IP Without SuperCharger')\n",
    "plt.title(\"IP and BP with and without the SuperCharger\")\n",
    "plt.xlabel(\"Engine's Speed (rpm)\")\n",
    "plt.ylabel(\"Power (Kw)\")\n",
    "plt.legend(loc='best')\n",
    "plt.show()"
   ]
  },
  {
   "cell_type": "code",
   "execution_count": null,
   "id": "5ef5b351",
   "metadata": {},
   "outputs": [],
   "source": []
  }
 ],
 "metadata": {
  "kernelspec": {
   "display_name": "Python 3 (ipykernel)",
   "language": "python",
   "name": "python3"
  },
  "language_info": {
   "codemirror_mode": {
    "name": "ipython",
    "version": 3
   },
   "file_extension": ".py",
   "mimetype": "text/x-python",
   "name": "python",
   "nbconvert_exporter": "python",
   "pygments_lexer": "ipython3",
   "version": "3.9.1"
  }
 },
 "nbformat": 4,
 "nbformat_minor": 5
}
